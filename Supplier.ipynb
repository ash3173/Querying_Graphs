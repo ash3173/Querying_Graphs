{
 "cells": [
  {
   "cell_type": "markdown",
   "metadata": {},
   "source": [
    "# Class TemporalGraph"
   ]
  },
  {
   "cell_type": "code",
   "execution_count": 1,
   "metadata": {},
   "outputs": [],
   "source": [
    "from functools import lru_cache\n",
    "import os\n",
    "import json\n",
    "import networkx as nx\n",
    "class TemporalGraph:\n",
    "    def __init__(self, files):\n",
    "        \"\"\"\n",
    "        Initialize TemporalGraph with a list of JSON files representing graphs at different timestamps.\n",
    "        \"\"\"\n",
    "        self.files = files  # List of JSON file paths\n",
    "\n",
    "    @lru_cache(maxsize=10)  # Cache the last 10 accessed timestamps\n",
    "    def load_graph_at_timestamp(self, timestamp):\n",
    "        \"\"\"\n",
    "        Load the graph for a specific timestamp from JSON and convert it to a NetworkX graph.\n",
    "        \"\"\"\n",
    "        with open(self.files[timestamp], 'r') as f:\n",
    "            data = json.load(f)\n",
    "        return self._json_to_graph(data)\n",
    "\n",
    "    def _json_to_graph(self, data):\n",
    "        \"\"\"\n",
    "        Convert JSON data to a NetworkX graph.\n",
    "        \"\"\"\n",
    "        graph = nx.DiGraph() if data[\"directed\"] else nx.Graph()\n",
    "        \n",
    "        # Add nodes\n",
    "        \n",
    "        for node_type, nodes in data[\"node_values\"].items():\n",
    "            for node in nodes:\n",
    "                node_id = node[-1]  # Assuming the node ID is the last element in the list\n",
    "                node_attributes = dict(zip(data[\"node_types\"][node_type], node))\n",
    "                graph.add_node(node_id, **node_attributes)  # Add the node with its attributes\n",
    "            \n",
    "                \n",
    "        # Add edges\n",
    "        all_edge_types = data[\"relationship_types\"]\n",
    "\n",
    "        for i in data[\"relationship_values\"] :\n",
    "            \n",
    "            if i[0] in all_edge_types :\n",
    "                \n",
    "                attributes = {}\n",
    "                for j in range(len(i)-2) :\n",
    "                    key = all_edge_types[i[0]][j]\n",
    "                    attributes[key] = i[j]\n",
    "\n",
    "                graph.add_edge(i[-2],i[-1],**attributes)\n",
    "            else :\n",
    "                graph.add_edge(i[0],i[1])\n",
    "    \n",
    "        \n",
    "        return graph\n",
    "\n"
   ]
  },
  {
   "cell_type": "markdown",
   "metadata": {},
   "source": [
    "# Loading and Wrapper"
   ]
  },
  {
   "cell_type": "code",
   "execution_count": 2,
   "metadata": {},
   "outputs": [],
   "source": [
    "import time  # Ensure this is imported properly\n",
    "import tracemalloc\n",
    "import functools\n",
    "\n",
    "def time_and_memory(func):\n",
    "    @functools.wraps(func)\n",
    "    def wrapper(*args, **kwargs):\n",
    "        # Start tracking memory and time\n",
    "        tracemalloc.start()\n",
    "        start_time = time.time()  # Ensure time module is used correctly\n",
    "        \n",
    "        try:\n",
    "            # Call the actual function\n",
    "            result = func(*args, **kwargs)\n",
    "        finally:\n",
    "            # Calculate memory and time usage\n",
    "            current, peak = tracemalloc.get_traced_memory()\n",
    "            tracemalloc.stop()\n",
    "            end_time = time.time()\n",
    "            elapsed_time = end_time - start_time\n",
    "\n",
    "            # Print results\n",
    "            print(f\"Time taken by '{func.__name__}': {elapsed_time:.2f} seconds\")\n",
    "            print(f\"Memory used by '{func.__name__}': {current / 1024:.2f} KiB (Current), {peak / 1024:.2f} KiB (Peak)\")\n",
    "\n",
    "        return result\n",
    "    return wrapper"
   ]
  },
  {
   "cell_type": "code",
   "execution_count": 3,
   "metadata": {},
   "outputs": [
    {
     "data": {
      "text/plain": [
       "['data/supply_chain_export_1000\\\\timestamp_0.json',\n",
       " 'data/supply_chain_export_1000\\\\timestamp_1.json',\n",
       " 'data/supply_chain_export_1000\\\\timestamp_2.json',\n",
       " 'data/supply_chain_export_1000\\\\timestamp_3.json',\n",
       " 'data/supply_chain_export_1000\\\\timestamp_4.json',\n",
       " 'data/supply_chain_export_1000\\\\timestamp_5.json',\n",
       " 'data/supply_chain_export_1000\\\\timestamp_6.json',\n",
       " 'data/supply_chain_export_1000\\\\timestamp_7.json',\n",
       " 'data/supply_chain_export_1000\\\\timestamp_8.json',\n",
       " 'data/supply_chain_export_1000\\\\timestamp_9.json',\n",
       " 'data/supply_chain_export_1000\\\\timestamp_10.json',\n",
       " 'data/supply_chain_export_1000\\\\timestamp_11.json']"
      ]
     },
     "execution_count": 3,
     "metadata": {},
     "output_type": "execute_result"
    }
   ],
   "source": [
    "import glob\n",
    "import re\n",
    "\n",
    "# Natural sorting function\n",
    "def natural_sort(files):\n",
    "    # Extract numeric parts from filenames for sorting\n",
    "    return sorted(files, key=lambda x: int(re.search(r'timestamp_(\\d+)', x).group(1)))\n",
    "\n",
    "# Get files and sort\n",
    "files = glob.glob(\"data/supply_chain_export_1000/timestamp_*.json\")\n",
    "files = natural_sort(files)\n",
    "\n",
    "# Initialize TemporalGraph\n",
    "temporal_graph = TemporalGraph(files)\n",
    "temporal_graph.files"
   ]
  },
  {
   "cell_type": "markdown",
   "metadata": {},
   "source": [
    "# Queries "
   ]
  },
  {
   "cell_type": "markdown",
   "metadata": {},
   "source": [
    "### Supplier Reliability and Costing Analysis"
   ]
  },
  {
   "cell_type": "code",
   "execution_count": 4,
   "metadata": {},
   "outputs": [],
   "source": [
    "@time_and_memory\n",
    "def supplier_reliability_costing_temporal(tg, timestamp, reliability_threshold, max_transportation_cost):\n",
    "    \"\"\"\n",
    "    Analyze supplier reliability and transportation costs at a specific timestamp in a temporal graph.\n",
    "\n",
    "    Parameters:\n",
    "        tg (TemporalGraph): The temporal graph object.\n",
    "        timestamp (int): The specific timestamp to analyze.\n",
    "        reliability_threshold (float): The maximum acceptable reliability threshold for suppliers.\n",
    "        max_transportation_cost (float): The maximum acceptable transportation cost.\n",
    "\n",
    "    Returns:\n",
    "        list: A list of suppliers meeting the criteria, including supplier ID, reliability, and transportation cost.\n",
    "    \"\"\"\n",
    "    # Load the graph for the specified timestamp\n",
    "    graph = tg.load_graph_at_timestamp(timestamp)\n",
    "    \n",
    "    suppliers = []\n",
    "    \n",
    "    # Iterate through edges to find SupplierToWarehouse relationships\n",
    "    for u, v, data in graph.edges(data=True):\n",
    "        \n",
    "        if data.get(\"relationship_type\") == \"SupplierToWarehouse\":\n",
    "            \n",
    "            transportation_cost = data.get(\"transportation_cost\", 0)\n",
    "            \n",
    "            # Check transportation cost and reliability\n",
    "            if transportation_cost <= max_transportation_cost:\n",
    "                reliability = graph.nodes[u].get(\"reliability\", 0)\n",
    "                if reliability >= reliability_threshold:\n",
    "                    suppliers.append((u, reliability, transportation_cost))\n",
    "    \n",
    "    return suppliers\n"
   ]
  },
  {
   "cell_type": "code",
   "execution_count": 5,
   "metadata": {},
   "outputs": [
    {
     "name": "stdout",
     "output_type": "stream",
     "text": [
      "Time taken by 'supplier_reliability_costing_temporal': 0.34 seconds\n",
      "Memory used by 'supplier_reliability_costing_temporal': 6875.73 KiB (Current), 8789.43 KiB (Peak)\n"
     ]
    }
   ],
   "source": [
    "results = supplier_reliability_costing_temporal(temporal_graph, 1, 0.95, 50)\n"
   ]
  },
  {
   "cell_type": "code",
   "execution_count": 6,
   "metadata": {},
   "outputs": [
    {
     "name": "stdout",
     "output_type": "stream",
     "text": [
      "Suppliers meeting the criteria:\n",
      "Supplier ID: S_036, Reliability: 0.9981630855575793, Transportation Cost: 27.198544570028744\n",
      "Supplier ID: S_063, Reliability: 0.9673805643755703, Transportation Cost: 16.350784095737552\n"
     ]
    }
   ],
   "source": [
    "print(\"Suppliers meeting the criteria:\")\n",
    "for supplier in results:\n",
    "    print(f\"Supplier ID: {supplier[0]}, Reliability: {supplier[1]}, Transportation Cost: {supplier[2]}\")\n"
   ]
  },
  {
   "cell_type": "markdown",
   "metadata": {},
   "source": [
    "### Given a Supplier ID and Warehouse ID get lead time."
   ]
  },
  {
   "cell_type": "code",
   "execution_count": 9,
   "metadata": {},
   "outputs": [],
   "source": [
    "@time_and_memory\n",
    "def query_lead_time_supplier_to_warehouse(temporal_graph,timestamp, supplier_id, warehouse_id):\n",
    "    G = temporal_graph.load_graph_at_timestamp(timestamp)\n",
    "    if G.has_edge(supplier_id, warehouse_id):\n",
    "        edge_data = G[supplier_id][warehouse_id]\n",
    "        if edge_data.get(\"relationship_type\") == \"SupplierToWarehouse\":\n",
    "            lead_time = edge_data.get(\"lead_time\")\n",
    "            return lead_time\n",
    "        else:\n",
    "            return None\n",
    "    else:\n",
    "        return None\n"
   ]
  },
  {
   "cell_type": "code",
   "execution_count": 10,
   "metadata": {},
   "outputs": [
    {
     "name": "stdout",
     "output_type": "stream",
     "text": [
      "Time taken by 'query_lead_time_supplier_to_warehouse': 0.61 seconds\n",
      "Memory used by 'query_lead_time_supplier_to_warehouse': 6884.04 KiB (Current), 8798.94 KiB (Peak)\n",
      "Lead time: None\n"
     ]
    }
   ],
   "source": [
    "supplier_id = 'S_003'\n",
    "warehouse_id = 'W_143'\n",
    "\n",
    "lead_time = query_lead_time_supplier_to_warehouse(temporal_graph,0, supplier_id, warehouse_id)\n",
    "print(\"Lead time:\",lead_time)"
   ]
  },
  {
   "cell_type": "markdown",
   "metadata": {},
   "source": [
    "### Parts supplied by each supplier."
   ]
  },
  {
   "cell_type": "code",
   "execution_count": 11,
   "metadata": {},
   "outputs": [],
   "source": [
    "@time_and_memory\n",
    "def query_supplied_part_types_for_supplier(temporal_graph,timestamp, supplier_id):\n",
    "    G = temporal_graph.load_graph_at_timestamp(timestamp)\n",
    "    if supplier_id in G.nodes and G.nodes[supplier_id].get(\"node_type\") == \"Supplier\":\n",
    "        supplied_part_types = G.nodes[supplier_id].get(\"supplied_part_types\")\n",
    "        return supplied_part_types\n",
    "    else:\n",
    "        return None\n"
   ]
  },
  {
   "cell_type": "code",
   "execution_count": 12,
   "metadata": {},
   "outputs": [
    {
     "name": "stdout",
     "output_type": "stream",
     "text": [
      "Time taken by 'query_supplied_part_types_for_supplier': 0.00 seconds\n",
      "Memory used by 'query_supplied_part_types_for_supplier': 0.18 KiB (Current), 0.18 KiB (Peak)\n",
      "Supplied part types: []\n"
     ]
    }
   ],
   "source": [
    "supplier_id = 'S_003'\n",
    "\n",
    "supplied_part_types = query_supplied_part_types_for_supplier(temporal_graph,0, supplier_id)\n",
    "print(\"Supplied part types:\",supplied_part_types)"
   ]
  },
  {
   "cell_type": "markdown",
   "metadata": {},
   "source": [
    "### Next"
   ]
  },
  {
   "cell_type": "code",
   "execution_count": null,
   "metadata": {},
   "outputs": [],
   "source": []
  }
 ],
 "metadata": {
  "kernelspec": {
   "display_name": "Python 3",
   "language": "python",
   "name": "python3"
  },
  "language_info": {
   "codemirror_mode": {
    "name": "ipython",
    "version": 3
   },
   "file_extension": ".py",
   "mimetype": "text/x-python",
   "name": "python",
   "nbconvert_exporter": "python",
   "pygments_lexer": "ipython3",
   "version": "3.12.4"
  }
 },
 "nbformat": 4,
 "nbformat_minor": 2
}

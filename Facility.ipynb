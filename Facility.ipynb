{
 "cells": [
  {
   "cell_type": "markdown",
   "metadata": {},
   "source": [
    "# Class TemporalGraph"
   ]
  },
  {
   "cell_type": "code",
   "execution_count": 1,
   "metadata": {},
   "outputs": [],
   "source": [
    "from functools import lru_cache\n",
    "import os\n",
    "import json\n",
    "import networkx as nx\n",
    "class TemporalGraph:\n",
    "    def __init__(self, files):\n",
    "        \"\"\"\n",
    "        Initialize TemporalGraph with a list of JSON files representing graphs at different timestamps.\n",
    "        \"\"\"\n",
    "        self.files = files  # List of JSON file paths\n",
    "\n",
    "    @lru_cache(maxsize=10)  # Cache the last 10 accessed timestamps\n",
    "    def load_graph_at_timestamp(self, timestamp):\n",
    "        \"\"\"\n",
    "        Load the graph for a specific timestamp from JSON and convert it to a NetworkX graph.\n",
    "        \"\"\"\n",
    "        with open(self.files[timestamp], 'r') as f:\n",
    "            data = json.load(f)\n",
    "        return self._json_to_graph(data)\n",
    "\n",
    "    def _json_to_graph(self, data):\n",
    "        \"\"\"\n",
    "        Convert JSON data to a NetworkX graph.\n",
    "        \"\"\"\n",
    "        graph = nx.DiGraph() if data[\"directed\"] else nx.Graph()\n",
    "        \n",
    "        # Add nodes\n",
    "        \n",
    "        for node_type, nodes in data[\"node_values\"].items():\n",
    "            for node in nodes:\n",
    "                node_id = node[-1]  # Assuming the node ID is the last element in the list\n",
    "                node_attributes = dict(zip(data[\"node_types\"][node_type], node))\n",
    "                graph.add_node(node_id, **node_attributes)  # Add the node with its attributes\n",
    "            \n",
    "                \n",
    "        # Add edges\n",
    "        all_edge_types = data[\"relationship_types\"]\n",
    "\n",
    "        for i in data[\"relationship_values\"] :\n",
    "            \n",
    "            if i[0] in all_edge_types :\n",
    "                \n",
    "                attributes = {}\n",
    "                for j in range(len(i)-2) :\n",
    "                    key = all_edge_types[i[0]][j]\n",
    "                    attributes[key] = i[j]\n",
    "\n",
    "                graph.add_edge(i[-2],i[-1],**attributes)\n",
    "            else :\n",
    "                graph.add_edge(i[0],i[1])\n",
    "    \n",
    "        \n",
    "        return graph\n",
    "\n"
   ]
  },
  {
   "cell_type": "markdown",
   "metadata": {},
   "source": [
    "# Loading and Wrapper"
   ]
  },
  {
   "cell_type": "code",
   "execution_count": 2,
   "metadata": {},
   "outputs": [],
   "source": [
    "import time  # Ensure this is imported properly\n",
    "import tracemalloc\n",
    "import functools\n",
    "\n",
    "def time_and_memory(func):\n",
    "    @functools.wraps(func)\n",
    "    def wrapper(*args, **kwargs):\n",
    "        # Start tracking memory and time\n",
    "        tracemalloc.start()\n",
    "        start_time = time.time()  # Ensure time module is used correctly\n",
    "        \n",
    "        try:\n",
    "            # Call the actual function\n",
    "            result = func(*args, **kwargs)\n",
    "        finally:\n",
    "            # Calculate memory and time usage\n",
    "            current, peak = tracemalloc.get_traced_memory()\n",
    "            tracemalloc.stop()\n",
    "            end_time = time.time()\n",
    "            elapsed_time = end_time - start_time\n",
    "\n",
    "            # Print results\n",
    "            print(f\"Time taken by '{func.__name__}': {elapsed_time:.2f} seconds\")\n",
    "            print(f\"Memory used by '{func.__name__}': {current / 1024:.2f} KiB (Current), {peak / 1024:.2f} KiB (Peak)\")\n",
    "\n",
    "        return result\n",
    "    return wrapper"
   ]
  },
  {
   "cell_type": "code",
   "execution_count": 3,
   "metadata": {},
   "outputs": [
    {
     "data": {
      "text/plain": [
       "['data/supply_chain_export_1000\\\\timestamp_0.json',\n",
       " 'data/supply_chain_export_1000\\\\timestamp_1.json',\n",
       " 'data/supply_chain_export_1000\\\\timestamp_2.json',\n",
       " 'data/supply_chain_export_1000\\\\timestamp_3.json',\n",
       " 'data/supply_chain_export_1000\\\\timestamp_4.json',\n",
       " 'data/supply_chain_export_1000\\\\timestamp_5.json',\n",
       " 'data/supply_chain_export_1000\\\\timestamp_6.json',\n",
       " 'data/supply_chain_export_1000\\\\timestamp_7.json',\n",
       " 'data/supply_chain_export_1000\\\\timestamp_8.json',\n",
       " 'data/supply_chain_export_1000\\\\timestamp_9.json',\n",
       " 'data/supply_chain_export_1000\\\\timestamp_10.json',\n",
       " 'data/supply_chain_export_1000\\\\timestamp_11.json']"
      ]
     },
     "execution_count": 3,
     "metadata": {},
     "output_type": "execute_result"
    }
   ],
   "source": [
    "import glob\n",
    "import re\n",
    "\n",
    "# Natural sorting function\n",
    "def natural_sort(files):\n",
    "    # Extract numeric parts from filenames for sorting\n",
    "    return sorted(files, key=lambda x: int(re.search(r'timestamp_(\\d+)', x).group(1)))\n",
    "\n",
    "# Get files and sort\n",
    "files = glob.glob(\"data/supply_chain_export_1000/timestamp_*.json\")\n",
    "files = natural_sort(files)\n",
    "\n",
    "# Initialize TemporalGraph\n",
    "temporal_graph = TemporalGraph(files)\n",
    "temporal_graph.files"
   ]
  },
  {
   "cell_type": "markdown",
   "metadata": {},
   "source": [
    "# Queries"
   ]
  },
  {
   "cell_type": "markdown",
   "metadata": {},
   "source": [
    "### Identify nodes with higher operating cost"
   ]
  },
  {
   "cell_type": "code",
   "execution_count": 4,
   "metadata": {},
   "outputs": [],
   "source": [
    "@time_and_memory\n",
    "def query_high_operating_cost_nodes(temporal_graph,timestamp, threshold):\n",
    "    G = temporal_graph.load_graph_at_timestamp(timestamp)\n",
    "    high_cost_nodes = [\n",
    "        node for node, attrs in G.nodes(data=True)\n",
    "        if attrs.get(\"node_type\") == \"Facility\" and attrs.get(\"operating_cost\", 0) > threshold\n",
    "    ]\n",
    "    print(f\"Nodes with operating cost greater than {threshold}: {high_cost_nodes}\")\n",
    "    return high_cost_nodes"
   ]
  },
  {
   "cell_type": "code",
   "execution_count": 5,
   "metadata": {},
   "outputs": [
    {
     "name": "stdout",
     "output_type": "stream",
     "text": [
      "Nodes with operating cost greater than 6000: ['F_001', 'F_002', 'F_003', 'F_005', 'F_010', 'F_012', 'F_014', 'F_018', 'F_019', 'F_020', 'F_021', 'F_026', 'F_031', 'F_036', 'F_037', 'F_038', 'F_041', 'F_048', 'F_049', 'F_050', 'F_053', 'F_054', 'F_059', 'F_061', 'F_062', 'F_063', 'F_064', 'F_065', 'F_066', 'F_068', 'F_070', 'F_072', 'F_075', 'F_077', 'F_082', 'F_083', 'F_086', 'F_088', 'F_089', 'F_091', 'F_092', 'F_094', 'F_097', 'F_102', 'F_103', 'F_105', 'F_109', 'F_115', 'F_121', 'F_122', 'F_123', 'F_129', 'F_131', 'F_132', 'F_134', 'F_138', 'F_139', 'F_141', 'F_143', 'F_144', 'F_145', 'F_147', 'F_148', 'F_149', 'F_150']\n",
      "Time taken by 'query_high_operating_cost_nodes': 0.32 seconds\n",
      "Memory used by 'query_high_operating_cost_nodes': 6878.77 KiB (Current), 8790.52 KiB (Peak)\n"
     ]
    }
   ],
   "source": [
    "threshold = 6000  \n",
    "high_cost_nodes = query_high_operating_cost_nodes(temporal_graph,0, threshold)"
   ]
  },
  {
   "cell_type": "markdown",
   "metadata": {},
   "source": [
    "### Profitable product offering"
   ]
  }
 ],
 "metadata": {
  "kernelspec": {
   "display_name": "Python 3",
   "language": "python",
   "name": "python3"
  },
  "language_info": {
   "codemirror_mode": {
    "name": "ipython",
    "version": 3
   },
   "file_extension": ".py",
   "mimetype": "text/x-python",
   "name": "python",
   "nbconvert_exporter": "python",
   "pygments_lexer": "ipython3",
   "version": "3.12.4"
  }
 },
 "nbformat": 4,
 "nbformat_minor": 2
}

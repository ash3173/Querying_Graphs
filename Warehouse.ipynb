{
 "cells": [
  {
   "cell_type": "markdown",
   "metadata": {},
   "source": [
    "# Class TemporalGraph"
   ]
  },
  {
   "cell_type": "code",
   "execution_count": 1,
   "metadata": {},
   "outputs": [],
   "source": [
    "from functools import lru_cache\n",
    "import os\n",
    "import json\n",
    "import networkx as nx\n",
    "class TemporalGraph:\n",
    "    def __init__(self, files):\n",
    "        \"\"\"\n",
    "        Initialize TemporalGraph with a list of JSON files representing graphs at different timestamps.\n",
    "        \"\"\"\n",
    "        self.files = files  # List of JSON file paths\n",
    "\n",
    "    @lru_cache(maxsize=10)  # Cache the last 10 accessed timestamps\n",
    "    def load_graph_at_timestamp(self, timestamp):\n",
    "        \"\"\"\n",
    "        Load the graph for a specific timestamp from JSON and convert it to a NetworkX graph.\n",
    "        \"\"\"\n",
    "        with open(self.files[timestamp], 'r') as f:\n",
    "            data = json.load(f)\n",
    "        return self._json_to_graph(data)\n",
    "\n",
    "    def _json_to_graph(self, data):\n",
    "        \"\"\"\n",
    "        Convert JSON data to a NetworkX graph.\n",
    "        \"\"\"\n",
    "        graph = nx.DiGraph() if data[\"directed\"] else nx.Graph()\n",
    "        \n",
    "        # Add nodes\n",
    "        \n",
    "        for node_type, nodes in data[\"node_values\"].items():\n",
    "            for node in nodes:\n",
    "                node_id = node[-1]  # Assuming the node ID is the last element in the list\n",
    "                node_attributes = dict(zip(data[\"node_types\"][node_type], node))\n",
    "                graph.add_node(node_id, **node_attributes)  # Add the node with its attributes\n",
    "            \n",
    "                \n",
    "        # Add edges\n",
    "        all_edge_types = data[\"relationship_types\"]\n",
    "\n",
    "        for i in data[\"relationship_values\"] :\n",
    "            \n",
    "            if i[0] in all_edge_types :\n",
    "                \n",
    "                attributes = {}\n",
    "                for j in range(len(i)-2) :\n",
    "                    key = all_edge_types[i[0]][j]\n",
    "                    attributes[key] = i[j]\n",
    "\n",
    "                graph.add_edge(i[-2],i[-1],**attributes)\n",
    "            else :\n",
    "                graph.add_edge(i[0],i[1])\n",
    "    \n",
    "        \n",
    "        return graph\n",
    "\n"
   ]
  },
  {
   "cell_type": "markdown",
   "metadata": {},
   "source": [
    "# Loading and Wrapper"
   ]
  },
  {
   "cell_type": "code",
   "execution_count": 2,
   "metadata": {},
   "outputs": [],
   "source": [
    "import time  # Ensure this is imported properly\n",
    "import tracemalloc\n",
    "import functools\n",
    "\n",
    "def time_and_memory(func):\n",
    "    @functools.wraps(func)\n",
    "    def wrapper(*args, **kwargs):\n",
    "        # Start tracking memory and time\n",
    "        tracemalloc.start()\n",
    "        start_time = time.time()  # Ensure time module is used correctly\n",
    "        \n",
    "        try:\n",
    "            # Call the actual function\n",
    "            result = func(*args, **kwargs)\n",
    "        finally:\n",
    "            # Calculate memory and time usage\n",
    "            current, peak = tracemalloc.get_traced_memory()\n",
    "            tracemalloc.stop()\n",
    "            end_time = time.time()\n",
    "            elapsed_time = end_time - start_time\n",
    "\n",
    "            # Print results\n",
    "            print(f\"Time taken by '{func.__name__}': {elapsed_time:.2f} seconds\")\n",
    "            print(f\"Memory used by '{func.__name__}': {current / 1024:.2f} KiB (Current), {peak / 1024:.2f} KiB (Peak)\")\n",
    "\n",
    "        return result\n",
    "    return wrapper"
   ]
  },
  {
   "cell_type": "code",
   "execution_count": 3,
   "metadata": {},
   "outputs": [
    {
     "data": {
      "text/plain": [
       "['data/supply_chain_export_1000\\\\timestamp_0.json',\n",
       " 'data/supply_chain_export_1000\\\\timestamp_1.json',\n",
       " 'data/supply_chain_export_1000\\\\timestamp_2.json',\n",
       " 'data/supply_chain_export_1000\\\\timestamp_3.json',\n",
       " 'data/supply_chain_export_1000\\\\timestamp_4.json',\n",
       " 'data/supply_chain_export_1000\\\\timestamp_5.json',\n",
       " 'data/supply_chain_export_1000\\\\timestamp_6.json',\n",
       " 'data/supply_chain_export_1000\\\\timestamp_7.json',\n",
       " 'data/supply_chain_export_1000\\\\timestamp_8.json',\n",
       " 'data/supply_chain_export_1000\\\\timestamp_9.json',\n",
       " 'data/supply_chain_export_1000\\\\timestamp_10.json',\n",
       " 'data/supply_chain_export_1000\\\\timestamp_11.json']"
      ]
     },
     "execution_count": 3,
     "metadata": {},
     "output_type": "execute_result"
    }
   ],
   "source": [
    "import glob\n",
    "import re\n",
    "\n",
    "# Natural sorting function\n",
    "def natural_sort(files):\n",
    "    # Extract numeric parts from filenames for sorting\n",
    "    return sorted(files, key=lambda x: int(re.search(r'timestamp_(\\d+)', x).group(1)))\n",
    "\n",
    "# Get files and sort\n",
    "files = glob.glob(\"data/supply_chain_export_1000/timestamp_*.json\")\n",
    "files = natural_sort(files)\n",
    "\n",
    "# Initialize TemporalGraph\n",
    "temporal_graph = TemporalGraph(files)\n",
    "temporal_graph.files"
   ]
  },
  {
   "cell_type": "markdown",
   "metadata": {},
   "source": [
    "# Queries"
   ]
  },
  {
   "cell_type": "markdown",
   "metadata": {},
   "source": [
    "### Transportation cost between a warehouse and supplier."
   ]
  },
  {
   "cell_type": "code",
   "execution_count": 4,
   "metadata": {},
   "outputs": [],
   "source": [
    "@time_and_memory\n",
    "def query_transportation_cost_for_supplier_and_warehouse(temporal_graph,timestamp, supplier_id, warehouse_id):\n",
    "    G = temporal_graph.load_graph_at_timestamp(timestamp)\n",
    "    if supplier_id in G.nodes and warehouse_id in G.nodes:\n",
    "        if G.nodes[supplier_id].get(\"node_type\") == \"Supplier\" and G.nodes[warehouse_id].get(\"node_type\") == \"Warehouse\":\n",
    "            if G.has_edge(supplier_id, warehouse_id):\n",
    "                edge_data = G[supplier_id][warehouse_id]\n",
    "                if edge_data.get(\"relationship_type\") == \"SupplierToWarehouse\":\n",
    "                    return edge_data.get(\"transportation_cost\")\n",
    "    return None\n"
   ]
  },
  {
   "cell_type": "code",
   "execution_count": 5,
   "metadata": {},
   "outputs": [
    {
     "name": "stdout",
     "output_type": "stream",
     "text": [
      "Time taken by 'query_transportation_cost_for_supplier_and_warehouse': 0.34 seconds\n",
      "Memory used by 'query_transportation_cost_for_supplier_and_warehouse': 6876.62 KiB (Current), 8791.39 KiB (Peak)\n",
      "Transportation cost: None\n"
     ]
    }
   ],
   "source": [
    "supplier_id = 'S_002'\n",
    "warehouse_id = 'W_044'\n",
    "\n",
    "transportation_cost = query_transportation_cost_for_supplier_and_warehouse(temporal_graph,0, supplier_id, warehouse_id)\n",
    "print(\"Transportation cost:\",transportation_cost)"
   ]
  }
 ],
 "metadata": {
  "kernelspec": {
   "display_name": "Python 3",
   "language": "python",
   "name": "python3"
  },
  "language_info": {
   "codemirror_mode": {
    "name": "ipython",
    "version": 3
   },
   "file_extension": ".py",
   "mimetype": "text/x-python",
   "name": "python",
   "nbconvert_exporter": "python",
   "pygments_lexer": "ipython3",
   "version": "3.12.4"
  }
 },
 "nbformat": 4,
 "nbformat_minor": 2
}
